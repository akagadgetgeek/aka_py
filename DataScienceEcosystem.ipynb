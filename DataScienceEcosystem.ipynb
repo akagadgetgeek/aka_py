{
 "cells": [
  {
   "cell_type": "markdown",
   "id": "da62674d-c511-4b2b-b79f-7cd0f0b45a79",
   "metadata": {},
   "source": [
    "# Data Science Tools and Ecosystem"
   ]
  },
  {
   "cell_type": "markdown",
   "id": "c1bfafd6-61f5-4b0d-8854-4eb3b1aef068",
   "metadata": {},
   "source": [
    "In this notebook, Data Science Tools and Ecosystem are summarized."
   ]
  },
  {
   "cell_type": "markdown",
   "id": "48b940cf-10a8-4f87-ab1a-213991b27f02",
   "metadata": {},
   "source": [
    "**Objectives:**\n",
    "- To learn about some of the popular languages used by Data Scientists\n",
    "- To learn about some of the commonly used libraries used by Data Scientists\n",
    "- To learn to create a Table\n",
    "- To learn to create a List\n",
    "- To learn to create a heading"
   ]
  },
  {
   "cell_type": "markdown",
   "id": "0454578f-142c-4f20-8a5c-038b85382946",
   "metadata": {},
   "source": [
    "Some of the popular languages that Data Scientists use are:\n",
    "1. Python\n",
    "2. R\n",
    "3. SQL\n",
    "4. Java\n",
    "5. Julia\n",
    "6. Scala\n",
    "7. C/C++\n",
    "8. JavaScript\n",
    "9. Swift\n",
    "10. Go\n",
    "11. MATLAB\n",
    "12. SAS"
   ]
  },
  {
   "cell_type": "markdown",
   "id": "a4a30420-add0-4af0-b114-42826a9df486",
   "metadata": {},
   "source": [
    "Some of the commonly used libraries used by Data Scientists include:\n",
    "1. NumPy\n",
    "2. Pandas\n",
    "3. Plotly\n",
    "4. Matplotlib\n",
    "5. Scikit-learn\n",
    "6. PyTorch\n",
    "7. TensorFlow\n",
    "8. XGBoost\n",
    "9. LightGBM\n",
    "10. PyCaret\n",
    "11. Keras\n",
    "12. Faust"
   ]
  },
  {
   "cell_type": "markdown",
   "id": "0f23561d-42b2-4e55-b4d4-6149877357c1",
   "metadata": {},
   "source": [
    "|Data Science Tools|\n",
    "|-------------------|\n",
    "|Jupyter Notebook|\n",
    "|RStudio|\n",
    "|V SCode|"
   ]
  },
  {
   "cell_type": "markdown",
   "id": "53226a3b-d16e-4965-b865-f414ead7584d",
   "metadata": {},
   "source": [
    "### Below are a few examples of evaluating arithmetic expressions in Python\n",
    "(4 * 5) - (10 / 2)\n",
    "20*2 / 5\n",
    "669 + 996 - 226"
   ]
  },
  {
   "cell_type": "code",
   "execution_count": 2,
   "id": "baefd3ab-7670-48e2-bc64-afc53285513f",
   "metadata": {},
   "outputs": [
    {
     "data": {
      "text/plain": [
       "17"
      ]
     },
     "execution_count": 2,
     "metadata": {},
     "output_type": "execute_result"
    }
   ],
   "source": [
    "# This a simple arithmetic expression to mutiply then add integers\n",
    "(3*4)+5"
   ]
  },
  {
   "cell_type": "code",
   "execution_count": 3,
   "id": "0fbf5b2a-f501-4cc8-966a-85dcfeb4be43",
   "metadata": {},
   "outputs": [
    {
     "name": "stdout",
     "output_type": "stream",
     "text": [
      "There are 3.3333333333333335 in 200 minutes\n"
     ]
    }
   ],
   "source": [
    "# This will convert 200 minutes to hours by diving by 60\n",
    "minutes = 200\n",
    "hours = minutes/60\n",
    "print(\"There are\", hours, \"in\", minutes,\"minutes\")"
   ]
  },
  {
   "cell_type": "markdown",
   "id": "a7f47274-69c9-4e93-a9e9-0eae58e25614",
   "metadata": {},
   "source": [
    "## Author\n",
    "Amit Kumar Aman"
   ]
  },
  {
   "cell_type": "code",
   "execution_count": null,
   "id": "ccf41916-ef64-4be8-bab1-2022a2e8d294",
   "metadata": {},
   "outputs": [],
   "source": []
  }
 ],
 "metadata": {
  "kernelspec": {
   "display_name": "Python 3 (ipykernel)",
   "language": "python",
   "name": "python3"
  },
  "language_info": {
   "codemirror_mode": {
    "name": "ipython",
    "version": 3
   },
   "file_extension": ".py",
   "mimetype": "text/x-python",
   "name": "python",
   "nbconvert_exporter": "python",
   "pygments_lexer": "ipython3",
   "version": "3.13.5"
  }
 },
 "nbformat": 4,
 "nbformat_minor": 5
}
